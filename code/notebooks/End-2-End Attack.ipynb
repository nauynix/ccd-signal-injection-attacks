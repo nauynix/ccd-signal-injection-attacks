{
 "cells": [
  {
   "cell_type": "code",
   "execution_count": null,
   "id": "ad78f183-324c-41a0-971d-6770f2cf24c7",
   "metadata": {},
   "outputs": [],
   "source": [
    "import sys\n",
    "sys.path.append(\"../lib/\")\n",
    "\n",
    "from SignalEmitter import SignalEmitter\n",
    "from EvaluationUtils import EvaluationUtils\n",
    "import numpy as np\n",
    "import cv2\n",
    "from scipy import signal "
   ]
  },
  {
   "cell_type": "code",
   "execution_count": null,
   "id": "b7d89e85-1f36-4722-b55c-0c2088148ee0",
   "metadata": {},
   "outputs": [],
   "source": [
    "def interpolate_attack_signal(attack_signal, input_image):\n",
    "    # Interpolation Factor used to match the attack signal symbol rate to the USRP sample rate\n",
    "    interpolation_factor = 2.657874685\n",
    "  \n",
    "    resampled = signal.resample(attack_signal, int(len(attack_signal)*interpolation_factor))\n",
    "    resampled.tofile(f'{input_image}.dat')\n",
    "    return resampled"
   ]
  },
  {
   "cell_type": "code",
   "execution_count": null,
   "id": "2ee99df7-9046-40b1-a29f-dce2a190d99c",
   "metadata": {},
   "outputs": [],
   "source": [
    "def run_attack_chain(input_image):\n",
    "    attack_signal = EvaluationUtils.sample_input_image(input_image)\n",
    "    _ = interpolate_attack_signal(attack_signal, input_image)\n",
    "    SignalEmitter.emit_attack_signal_from_file(190, 50, 31, f'{input_image}.dat', 15)"
   ]
  },
  {
   "cell_type": "code",
   "execution_count": null,
   "id": "ff49f652-06ae-49bc-a334-043280e6f8e0",
   "metadata": {},
   "outputs": [],
   "source": [
    "run_attack_chain(\"/home/code/radcliffe.jpg\")"
   ]
  }
 ],
 "metadata": {
  "kernelspec": {
   "display_name": "Python 3",
   "language": "python",
   "name": "python3"
  },
  "language_info": {
   "codemirror_mode": {
    "name": "ipython",
    "version": 3
   },
   "file_extension": ".py",
   "mimetype": "text/x-python",
   "name": "python",
   "nbconvert_exporter": "python",
   "pygments_lexer": "ipython3",
   "version": "3.6.9"
  }
 },
 "nbformat": 4,
 "nbformat_minor": 5
}
